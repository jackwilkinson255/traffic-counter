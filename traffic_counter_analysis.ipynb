{
 "cells": [
  {
   "cell_type": "code",
   "execution_count": null,
   "metadata": {},
   "outputs": [],
   "source": [
    "import pandas as pd\n",
    "import matplotlib.pyplot as plt \n",
    "\n",
    "class TrafficCounterAnalysis():\n",
    "\n",
    "    def import_data(self):\n",
    "        self.traffic_data = pd.read_csv('traffic_counter.csv', delimiter=';')\n",
    "\n",
    "\n",
    "    def clean_data(self):\n",
    "        # convert to datetime\n",
    "        # self.traffic_data[\"time_stamp\"] = pd.to_datetime(self.traffic_data[\"time_stamp\"])\n",
    "\n",
    "        # extract date and time\n",
    "        self.traffic_data[\"dt\"] = pd.to_datetime(self.traffic_data[\"time_stamp\"])\n",
    "\n",
    "        # round 15 mins\n",
    "        self.traffic_data[\"dt\"] = self.traffic_data[\"dt\"].dt.round('15min')\n",
    "\n",
    "        self.traffic_data[\"time\"] = self.traffic_data[\"dt\"].dt.time\n",
    "\n",
    "        # drop unneeded columns\n",
    "        self.traffic_data = self.traffic_data.drop(columns=['id','time_stamp'])\n",
    "\n",
    "        # make date index\n",
    "        self.traffic_data = self.traffic_data.set_index('dt')\n",
    "\n",
    "        # rearrange cols\n",
    "        cols = self.traffic_data.columns.tolist()\n",
    "        cols = cols[-1:] + cols[:-1]\n",
    "        self.traffic_data = self.traffic_data[cols]\n",
    "\n",
    "        self.traffic_data = self.traffic_data.sort_index(ascending=True)\n",
    "\n",
    "\n",
    "    def plot_data(self):\n",
    "        fig, axs = plt.subplots(figsize=(12, 4))\n",
    "        self.traffic_data.groupby(self.traffic_data.index.hour).mean().plot(kind='line', rot=0, ax=axs)\n",
    "        plt.xlabel(\"Time (hour)\");  # custom x label using Matplotlib\n",
    "        plt.ylabel(\"Object\");\n",
    "        fig.savefig('traffic_data_plot.png', transparent=True)\n",
    "\n",
    "\n",
    "\n",
    "tca = TrafficCounterAnalysis()\n",
    "tca.import_data()\n",
    "tca.clean_data()\n",
    "tca.plot_data()"
   ]
  }
 ],
 "metadata": {
  "kernelspec": {
   "display_name": "Python 3.10.4 ('venv': venv)",
   "language": "python",
   "name": "python3"
  },
  "language_info": {
   "codemirror_mode": {
    "name": "ipython",
    "version": 3
   },
   "file_extension": ".py",
   "mimetype": "text/x-python",
   "name": "python",
   "nbconvert_exporter": "python",
   "pygments_lexer": "ipython3",
   "version": "3.10.4"
  },
  "orig_nbformat": 4,
  "vscode": {
   "interpreter": {
    "hash": "8fac213257430f1222c92966a9e4eb2e3e0e00e16d01fffe58a64bf8ff02e1f8"
   }
  }
 },
 "nbformat": 4,
 "nbformat_minor": 2
}
